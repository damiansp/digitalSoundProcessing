{
 "cells": [
  {
   "cell_type": "code",
   "execution_count": 1,
   "metadata": {
    "collapsed": true
   },
   "outputs": [],
   "source": [
    "import numpy as np\n",
    "import matplotlib.pyplot as plt\n",
    "from scipy.signal import get_window\n",
    "import utility_functions as uf\n",
    "import dft_model as dft\n",
    "\n",
    "%matplotlib inline"
   ]
  },
  {
   "cell_type": "code",
   "execution_count": 2,
   "metadata": {
    "collapsed": false
   },
   "outputs": [
    {
     "name": "stdout",
     "output_type": "stream",
     "text": [
      "\n",
      "../sms-tools/sounds/bendir.wav:\n",
      "\n",
      " File Size: 278k      Bit Rate: 706k\n",
      "  Encoding: Signed PCM    \n",
      "  Channels: 1 @ 16-bit   \n",
      "Samplerate: 44100Hz      \n",
      "Replaygain: off         \n",
      "  Duration: 00:00:03.15  \n",
      "\n",
      "In:100%  00:00:03.15 [00:00:00.00] Out:139k  [      |      ]        Clip:0    \n",
      "Done.\n"
     ]
    }
   ],
   "source": [
    "input_file = '../sms-tools/sounds/bendir.wav'\n",
    "!play '../sms-tools/sounds/bendir.wav'"
   ]
  },
  {
   "cell_type": "code",
   "execution_count": 3,
   "metadata": {
    "collapsed": true
   },
   "outputs": [],
   "source": [
    "window = 'hamming'\n",
    "# window size\n",
    "m = 2001 \n",
    "# FFT size\n",
    "n = 2048\n",
    "# Magnitude threshold of spectral peaks\n",
    "t = -80\n",
    "# Min duration required for sinusoid detection\n",
    "min_sine_duration = 0.02\n",
    "# Max number of sine waves to be detected\n",
    "max_n_sines = 150\n",
    "# Amount of deviation allowed in sinusoid from frame to frame at freq = 0\n",
    "freq_dev_offset = 10\n",
    "# slope of freq deviation (needed to adjust for the fact that higher freqs tend to have higher deviation)\n",
    "freq_dev_slope = 0.001"
   ]
  },
  {
   "cell_type": "code",
   "execution_count": 4,
   "metadata": {
    "collapsed": false
   },
   "outputs": [],
   "source": [
    "# Size of FFT to be used in the synthesis\n",
    "n_s = 512\n",
    "# Hop size (n_s / 4)\n",
    "h = n_s / 4\n",
    "fs, x = uf.wavread(input_file)"
   ]
  },
  {
   "cell_type": "code",
   "execution_count": 5,
   "metadata": {
    "collapsed": false
   },
   "outputs": [
    {
     "data": {
      "image/png": "[encoded data removed]",
      "text/plain": [
       "<matplotlib.figure.Figure at 0x1040f4bd0>"
      ]
     },
     "metadata": {},
     "output_type": "display_data"
    }
   ],
   "source": [
    "plt.plot(x);"
   ]
  },
  {
   "cell_type": "code",
   "execution_count": 6,
   "metadata": {
    "collapsed": true
   },
   "outputs": [],
   "source": [
    "w = get_window(window, m)"
   ]
  },
  {
   "cell_type": "markdown",
   "metadata": {},
   "source": [
    "# Begin the Sinusoidal Model Analysis"
   ]
  },
  {
   "cell_type": "code",
   "execution_count": 7,
   "metadata": {
    "collapsed": false
   },
   "outputs": [
    {
     "data": {
      "text/plain": [
       "[<matplotlib.lines.Line2D at 0x10f53f310>]"
      ]
     },
     "execution_count": 7,
     "metadata": {},
     "output_type": "execute_result"
    },
    {
     "data": {
      "image/png": "[encoded data removed]",
      "text/plain": [
       "<matplotlib.figure.Figure at 0x10edcb650>"
      ]
     },
     "metadata": {},
     "output_type": "display_data"
    }
   ],
   "source": [
    "# sine_model_analysis(x, fs, w, n, h, t, max_n_sines, min_sine_duration, freq_dev_offset, freq_dev_slope)\n",
    "hM1 = int(np.floor((w.size + 1) / 2))\n",
    "hM2 = int(np.floor(w.size / 2))\n",
    "x = np.append(np.zeros(hM2), x)\n",
    "x = np.append(x,np.zeros(hM2))\n",
    "plt.plot(x)"
   ]
  },
  {
   "cell_type": "code",
   "execution_count": 8,
   "metadata": {
    "collapsed": true
   },
   "outputs": [],
   "source": [
    "# initialize sound pointer at middle of window\n",
    "pin = hM1 \n",
    "pend = x.size - hM1\n",
    "# normalize window\n",
    "w = w / sum(w) "
   ]
  },
  {
   "cell_type": "markdown",
   "metadata": {},
   "source": [
    "# Sinusoid Tracking\n",
    "### Brief Explanation before Diving into the Analysis\n",
    "\n",
    "For each sample, sinusoid tracking is done to determine if a detected sinusoid perpetuates from one frame to the next. The following functions does this, and some explanation follows."
   ]
  },
  {
   "cell_type": "code",
   "execution_count": 9,
   "metadata": {
    "collapsed": false
   },
   "outputs": [],
   "source": [
    "def sine_tracking(\n",
    "    p_freq, p_mag, p_phase, t_freq, freq_dev_offset = 20, freq_dev_slope = 0.01):\n",
    "    '''\n",
    "    Tracking sinusoids from one frame to the next                           \n",
    "    p_freq, p_mag, p_phase: frequencies and magnitude of current frame         \n",
    "    t_freq: frequencies of incoming tracks from previous frame               \n",
    "    freq_dev_offset: minimum frequency deviation at 0Hz                       \n",
    "    freq_dev_slope: slope increase of minimum frequency deviation             \n",
    "    \n",
    "    returns t_freq_n, t_mag_n, t_phase_n: frequency, magnitude and phase of       \n",
    "    tracks                                                                  \n",
    "    '''\n",
    "\n",
    "    t_freq_n  = np.zeros(t_freq.size)\n",
    "    t_mag_n   = np.zeros(t_freq.size)\n",
    "    t_phase_n = np.zeros(t_freq.size)\n",
    "\n",
    "    # indices of current peaks\n",
    "    p_indices = np.array(np.nonzero(p_freq), dtype = np.int)[0]\n",
    "    # indices of incoming tracks (for all samples except the first)\n",
    "    incoming_tracks = np.array(np.nonzero(t_freq), dtype = np.int)[0]\n",
    "    new_tracks = np.zeros(t_freq.size, dtype = np.int) - 1 # initialize to -1\n",
    "    # order current peaks by magnitude\n",
    "    mag_order = np.argsort(-p_mag[p_indices])\n",
    "    # copy current peaks, mags, and phases to temp arrays\n",
    "    p_freq_t  = np.copy(p_freq)\n",
    "    p_mag_t   = np.copy(p_mag)\n",
    "    p_phase_t = np.copy(p_phase)\n",
    "\n",
    "    # continue incoming tracks\n",
    "    if incoming_tracks.size > 0: \n",
    "        # iterate over current peaks\n",
    "        for i in mag_order:\n",
    "            # break if no more incoming tracks\n",
    "            if incoming_tracks.size == 0:\n",
    "                break\n",
    "            # closest incoming track to peak\n",
    "            track = np.argmin(abs(p_freq_t[i] - t_freq[incoming_tracks]))\n",
    "            freq_distance = abs(p_freq[i] - t_freq[incoming_tracks[track]])\n",
    "\n",
    "            # if distance is within threshold\n",
    "            if freq_distance < (freq_dev_offset + freq_dev_slope * p_freq[i]):\n",
    "                # assign peak index to track index\n",
    "                new_tracks[incoming_tracks[track]] = i \n",
    "                # delete index of track in incoming tracks \n",
    "                incoming_tracks = np.delete(incoming_tracks, track)\n",
    "\n",
    "    index_t = np.array(np.nonzero(new_tracks != -1), dtype = np.int)[0]\n",
    "\n",
    "    if index_t.size > 0:\n",
    "        index_p = new_tracks[index_t]           # inds of assigned peaks\n",
    "        t_freq_n[index_t]  = p_freq_t[index_p]  # output freq...\n",
    "        t_mag_n[index_t]   = p_mag_t[index_p]   # ...mag\n",
    "        t_phase_n[index_t] = p_phase_t[index_p] # ...and phase tracks\n",
    "        \n",
    "        p_freq_t  = np.delete(p_freq_t,  index_p) # delete used peaks\n",
    "        p_mag_t   = np.delete(p_mag_t,   index_p) # ...\n",
    "        p_phase_t = np.delete(p_phase_t, index_p) # ...\n",
    "        \n",
    "    # Create new tracks from unused peaks\n",
    "    # index of empty incoming tracks\n",
    "    empty_t = np.array(np.nonzero(t_freq == 0), dtype = np.int)[0]\n",
    "    # sort remaining peaks by mag\n",
    "    peaks_left = np.argsort(-p_mag_t)\n",
    "    \n",
    "    if ((peaks_left.size > 0) and (empty_t.size >= peaks_left.size)):\n",
    "        # Fill empty tracks\n",
    "        t_freq_n[empty_t[:peaks_left.size]]  = p_freq_t[peaks_left]\n",
    "        t_mag_n[empty_t[:peaks_left.size]]   = p_mag_t[peaks_left]\n",
    "        t_phase_n[empty_t[:peaks_left.size]] = p_phase_t[peaks_left]\n",
    "    elif ((peaks_left.size > 0) and (empty_t.size < peaks_left.size)):\n",
    "        t_freq_n[empty_t] = p_freq_t[peaks_left[:empty_t.size]]\n",
    "        t_mag_n[empty_t] = p_mag_t[peaks_left[:empty_t.size]]\n",
    "        t_phase_n[empty_t] = p_phase_t[peaks_left[:empty_t.size]]\n",
    "        t_freq_n = np.append(t_freq_n, p_freq_t[peaks_left[empty_t.size:]])\n",
    "        t_mag_n = np.append(t_mag_n, p_mag_t[peaks_left[empty_t.size:]])\n",
    "        t_phase_n = np.append(t_phase_n, p_phase_t[peaks_left[empty_t.size:]])\n",
    "    \n",
    "    return t_freq_n, t_mag_n, t_phase_n"
   ]
  },
  {
   "cell_type": "code",
   "execution_count": 10,
   "metadata": {
    "collapsed": false
   },
   "outputs": [
    {
     "data": {
      "text/plain": [
       "[<matplotlib.lines.Line2D at 0x10fbea690>]"
      ]
     },
     "execution_count": 10,
     "metadata": {},
     "output_type": "execute_result"
    },
    {
     "data": {
      "image/png": "[encoded data removed]",
      "text/plain": [
       "<matplotlib.figure.Figure at 0x10f4f1750>"
      ]
     },
     "metadata": {},
     "output_type": "display_data"
    }
   ],
   "source": [
    "t_freq = np.array([])\n",
    "\n",
    "# Run sine tracking on just the first sample:\n",
    "# select initial frame\n",
    "x1 = x[pin - hM1:pin + hM2]\n",
    "plt.plot(x1)"
   ]
  },
  {
   "cell_type": "code",
   "execution_count": 11,
   "metadata": {
    "collapsed": false
   },
   "outputs": [
    {
     "data": {
      "text/plain": [
       "[<matplotlib.lines.Line2D at 0x10ff3e590>]"
      ]
     },
     "execution_count": 11,
     "metadata": {},
     "output_type": "execute_result"
    },
    {
     "data": {
      "image/png": "[encoded data removed]",
      "text/plain": [
       "<matplotlib.figure.Figure at 0x10fb1f350>"
      ]
     },
     "metadata": {},
     "output_type": "display_data"
    }
   ],
   "source": [
    "# Compute DFT\n",
    "mX, pX = dft.dft_analysis(x1, w, n)  \n",
    "plt.plot(mX)"
   ]
  },
  {
   "cell_type": "code",
   "execution_count": 12,
   "metadata": {
    "collapsed": false
   },
   "outputs": [
    {
     "data": {
      "text/plain": [
       "[<matplotlib.lines.Line2D at 0x10ffb4250>]"
      ]
     },
     "execution_count": 12,
     "metadata": {},
     "output_type": "execute_result"
    },
    {
     "data": {
      "image/png": "[encoded data removed]",
      "text/plain": [
       "<matplotlib.figure.Figure at 0x10ff74d90>"
      ]
     },
     "metadata": {},
     "output_type": "display_data"
    }
   ],
   "source": [
    "plt.plot(pX)"
   ]
  },
  {
   "cell_type": "code",
   "execution_count": 13,
   "metadata": {
    "collapsed": false
   },
   "outputs": [
    {
     "data": {
      "text/plain": [
       "[<matplotlib.lines.Line2D at 0x10ff6bc10>]"
      ]
     },
     "execution_count": 13,
     "metadata": {},
     "output_type": "execute_result"
    },
    {
     "data": {
      "image/png": "[encoded data removed]",
      "text/plain": [
       "<matplotlib.figure.Figure at 0x10ffa0550>"
      ]
     },
     "metadata": {},
     "output_type": "display_data"
    }
   ],
   "source": [
    "# Detect peak locations\n",
    "p_loc = uf.peakDetection(mX, t)\n",
    "# Refine ploc values by interpolation\n",
    "ip_loc, ip_mag, ip_phase = uf.peakInterp(mX, pX, p_loc)\n",
    "# Convert peak locations to Hz\n",
    "ip_freq = fs * ip_loc / float(n)\n",
    "\n",
    "# Zoom in on magnitude spectrom and indicate peaks detected\n",
    "plt.plot(mX[:100])\n",
    "\n",
    "plt.plot(ip_loc, ip_mag, 'rx')"
   ]
  },
  {
   "cell_type": "code",
   "execution_count": 14,
   "metadata": {
    "collapsed": false
   },
   "outputs": [],
   "source": [
    "# Sine-Tracking\n",
    "t_freq, t_mag, t_phase = sine_tracking(\n",
    "    ip_freq, ip_mag, ip_phase, t_freq, freq_dev_offset, freq_dev_slope)"
   ]
  },
  {
   "cell_type": "code",
   "execution_count": 15,
   "metadata": {
    "collapsed": false
   },
   "outputs": [
    {
     "data": {
      "text/plain": [
       "array([  52.8647402 ,  212.34552284])"
      ]
     },
     "execution_count": 15,
     "metadata": {},
     "output_type": "execute_result"
    }
   ],
   "source": [
    "t_freq"
   ]
  },
  {
   "cell_type": "code",
   "execution_count": 16,
   "metadata": {
    "collapsed": false
   },
   "outputs": [
    {
     "data": {
      "text/plain": [
       "array([-57.7042627 , -73.68101135])"
      ]
     },
     "execution_count": 16,
     "metadata": {},
     "output_type": "execute_result"
    }
   ],
   "source": [
    "t_mag"
   ]
  },
  {
   "cell_type": "code",
   "execution_count": 17,
   "metadata": {
    "collapsed": false
   },
   "outputs": [
    {
     "data": {
      "text/plain": [
       "array([-0.32591257, -1.43844106])"
      ]
     },
     "execution_count": 17,
     "metadata": {},
     "output_type": "execute_result"
    }
   ],
   "source": [
    "t_phase"
   ]
  },
  {
   "cell_type": "markdown",
   "metadata": {},
   "source": [
    "The same procedure will be run for all frames in the sample, but first a helper function to help clean the tracks."
   ]
  },
  {
   "cell_type": "code",
   "execution_count": 49,
   "metadata": {
    "collapsed": true
   },
   "outputs": [],
   "source": [
    "def clean_sine_tracks(t_freq, min_track_length = 3):\n",
    "    '''\n",
    "    Delete short fragments of a collection of sinusoidal tracks             \n",
    "    t_freq: frequency of tracks                                              \n",
    "    min_track_length: minimum duration of tracks in number of frames          \n",
    "    \n",
    "    returns t_freq_n: output frequency of tracks                              \n",
    "    '''\n",
    "    \n",
    "    if t_freq.shape[1] == 0:\n",
    "        return t_freq\n",
    "    \n",
    "    n_frames = t_freq[:, 0].size                                                \n",
    "    n_tracks = t_freq[0, :].size # number of tracks in a frame                                                                  \n",
    "    \n",
    "    # iterate over all tracks\n",
    "    for t in range(n_tracks): \n",
    "        track_freqs = t_freq[:, t] # frequencies of one track      \n",
    "        # begining of track contours                                                             \n",
    "        track_begs = np.nonzero((track_freqs[:n_frames - 1] <= 0) & \n",
    "                                (track_freqs[1:] > 0))[0] + 1\n",
    "        if track_freqs[0] > 0:\n",
    "            track_begs = np.insert(track_begs, 0, 0)\n",
    "\n",
    "        # end of track contours                                                                  \n",
    "        track_ends = np.nonzero((track_freqs[:n_frames - 1] > 0) &\n",
    "                                (track_freqs[1:] <= 0))[0] + 1\n",
    "        if track_freqs[n_frames - 1] > 0:\n",
    "            track_ends = np.append(track_ends, n_frames - 1)\n",
    "        \n",
    "        # lengths of trach contours                                                              \n",
    "        track_lengths = 1 + track_ends - track_begs\n",
    "\n",
    "        for i, j in zip(track_begs, track_lengths):              \n",
    "            # delete short track contours                                                            \n",
    "            if j <= min_track_length:\n",
    "                track_freqs[i:i + j] = 0\n",
    "        \n",
    "    return t_freq"
   ]
  },
  {
   "cell_type": "code",
   "execution_count": 53,
   "metadata": {
    "collapsed": false
   },
   "outputs": [],
   "source": [
    "# Do the same for all samples, and further process\n",
    "\n",
    "# re-initialize\n",
    "x = np.append(np.zeros(hM2), x)\n",
    "x = np.append(x, np.zeros(hM2))\n",
    "pin = hM1 \n",
    "pend = x.size - hM1\n",
    "t_freq = np.array([]) \n",
    "\n",
    "while pin < pend:\n",
    "    x1 = x[pin - hM1:pin + hM2]\n",
    "    mX, pX = dft.dft_analysis(x1, w, n)  \n",
    "    p_loc = uf.peakDetection(mX, t)\n",
    "    ip_loc, ip_mag, ip_phase = uf.peakInterp(mX, pX, p_loc)\n",
    "    ip_freq = fs * ip_loc / float(n)\n",
    "    \n",
    "    # Sine-Tracking\n",
    "    t_freq, t_mag, t_phase = sine_tracking(\n",
    "        ip_freq, ip_mag, ip_phase, t_freq, freq_dev_offset, freq_dev_slope)\n",
    "\n",
    "    # limit no. of tracks to max_n_sines\n",
    "    t_freq  = np.resize(t_freq,  min(max_n_sines, t_freq.size))\n",
    "    t_mag   = np.resize(t_mag,   min(max_n_sines, t_mag.size))\n",
    "    t_phase = np.resize(t_phase, min(max_n_sines, t_phase.size))\n",
    "    \n",
    "    # Temp output arrays:\n",
    "    jt_freq  = np.zeros(max_n_sines)\n",
    "    jt_mag   = np.zeros(max_n_sines)\n",
    "    jt_phase = np.zeros(max_n_sines)\n",
    "    \n",
    "    # Save tracks to temp arrays:\n",
    "    jt_freq[:t_freq.size]   = t_freq \n",
    "    jt_mag[:t_mag.size]     = t_mag\n",
    "    jt_phase[:t_phase.size] = t_phase\n",
    "    \n",
    "    # if first frame, init output sine tracks\n",
    "    if pin == hM1: \n",
    "        xt_freq  = jt_freq\n",
    "        xt_mag   = jt_mag\n",
    "        xt_phase = jt_phase\n",
    "    else:\n",
    "        xt_freq  = np.vstack((xt_freq,  jt_freq))\n",
    "        xt_mag   = np.vstack((xt_mag,   jt_mag))\n",
    "        xt_phase = np.vstack((xt_phase, jt_phase))\n",
    "    # hop to next frame\n",
    "    pin += h \n",
    "    \n",
    "# delete sine tracks shorter than minSineDur                            \n",
    "xt_freq = clean_sine_tracks(xt_freq, round(fs * min_sine_duration / h))\n",
    "\n",
    "# return xtfreq, xtmag, xtphase"
   ]
  },
  {
   "cell_type": "code",
   "execution_count": 54,
   "metadata": {
    "collapsed": true
   },
   "outputs": [],
   "source": [
    "t_freq  = xt_freq\n",
    "t_mag   = xt_mag\n",
    "t_phase = xt_phase"
   ]
  },
  {
   "cell_type": "code",
   "execution_count": 55,
   "metadata": {
    "collapsed": false
   },
   "outputs": [
    {
     "data": {
      "text/plain": [
       "<matplotlib.text.Text at 0x110614810>"
      ]
     },
     "execution_count": 55,
     "metadata": {},
     "output_type": "execute_result"
    },
    {
     "data": {
      "image/png": "[encoded data removed]",
      "text/plain": [
       "<matplotlib.figure.Figure at 0x10ef77210>"
      ]
     },
     "metadata": {},
     "output_type": "display_data"
    }
   ],
   "source": [
    "max_plot_freq = 5000.0\n",
    "\n",
    "# plots\n",
    "plt.plot(np.arange(x.size) / float(fs), x)\n",
    "plt.axis([0, x.size / float(fs), min(x), max(x)])\n",
    "plt.ylabel('amplitude')\n",
    "plt.xlabel('time (s)')\n",
    "plt.title('input sound: x')"
   ]
  },
  {
   "cell_type": "code",
   "execution_count": 56,
   "metadata": {
    "collapsed": false
   },
   "outputs": [
    {
     "data": {
      "text/plain": [
       "<matplotlib.text.Text at 0x111857490>"
      ]
     },
     "execution_count": 56,
     "metadata": {},
     "output_type": "execute_result"
    },
    {
     "data": {
      "image/png": "[encoded data removed]",
      "text/plain": [
       "<matplotlib.figure.Figure at 0x110935310>"
      ]
     },
     "metadata": {},
     "output_type": "display_data"
    }
   ],
   "source": [
    "# Plot sinusoidal freqs\n",
    "num_frames = t_freq.shape[0]\n",
    "frm_time = h * np.arange(num_frames) / float(fs)\n",
    "t_freq[t_freq <= 0] = np.nan\n",
    "plt.plot(frm_time, t_freq)\n",
    "plt.axis([0, x.size / float(fs), 0, max_plot_freq])\n",
    "plt.title('Frequency of sinusoidal tracks')"
   ]
  },
  {
   "cell_type": "markdown",
   "metadata": {},
   "source": [
    "# Synthesis"
   ]
  },
  {
   "cell_type": "code",
   "execution_count": null,
   "metadata": {
    "collapsed": true
   },
   "outputs": [],
   "source": []
  }
 ],
 "metadata": {
  "kernelspec": {
   "display_name": "Python 2",
   "language": "python",
   "name": "python2"
  },
  "language_info": {
   "codemirror_mode": {
    "name": "ipython",
    "version": 2
   },
   "file_extension": ".py",
   "mimetype": "text/x-python",
   "name": "python",
   "nbconvert_exporter": "python",
   "pygments_lexer": "ipython2",
   "version": "2.7.11"
  }
 },
 "nbformat": 4,
 "nbformat_minor": 0
}
