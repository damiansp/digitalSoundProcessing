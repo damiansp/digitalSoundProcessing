{
 "cells": [
  {
   "cell_type": "markdown",
   "metadata": {},
   "source": [
    "# Harmonic Model\n",
    "\n",
    "### Imports"
   ]
  },
  {
   "cell_type": "code",
   "execution_count": 1,
   "metadata": {
    "collapsed": true
   },
   "outputs": [],
   "source": [
    "import dft_model as dft\n",
    "import matplotlib.pyplot as plt\n",
    "import numpy as np\n",
    "import sine_model as sm\n",
    "import utility_functions as uf\n",
    "\n",
    "from scipy.fftpack import ifft\n",
    "from scipy.signal import blackmanharris, get_window, triang\n",
    "\n",
    "%matplotlib inline"
   ]
  },
  {
   "cell_type": "markdown",
   "metadata": {},
   "source": [
    "### Set up some parameters"
   ]
  },
  {
   "cell_type": "code",
   "execution_count": 2,
   "metadata": {
    "collapsed": false
   },
   "outputs": [
    {
     "name": "stdout",
     "output_type": "stream",
     "text": [
      "\n",
      "../sms-tools/sounds/vignesh.wav:\n",
      "\n",
      " File Size: 273k      Bit Rate: 706k\n",
      "  Encoding: Signed PCM    \n",
      "  Channels: 1 @ 16-bit   \n",
      "Samplerate: 44100Hz      \n",
      "Replaygain: off         \n",
      "  Duration: 00:00:03.09  \n",
      "\n",
      "In:100%  00:00:03.09 [00:00:00.00] Out:136k  [      |      ]        Clip:0    \n",
      "Done.\n"
     ]
    }
   ],
   "source": [
    "n = 2048     # FFT size\n",
    "n_s = 512    # size of FFT for synthesis\n",
    "h = n_s / 4  # hop size\n",
    "t = -90      # magnitude threshold of spectral peaks (dB)\n",
    "n_h = 100    # max number of harmonics\n",
    "min_f0 = 100 # min freq for fundamental\n",
    "max_f0 = 300 # max ...\n",
    "f0_e = 7     # maximum error accepted in f0 detection\n",
    "min_sine_duration = 0.1 # minimum duration of a detected sinewave\n",
    "harm_dev_slope = 0.01   # allowed deviation of harmonic tracks; allows higher harmonics to have greater deviation \n",
    "m = 1201     # window size\n",
    "window = 'blackman'\n",
    "w = get_window(window, m)\n",
    "input_file = '../sms-tools/sounds/vignesh.wav'\n",
    "!play '../sms-tools/sounds/vignesh.wav'"
   ]
  },
  {
   "cell_type": "code",
   "execution_count": 3,
   "metadata": {
    "collapsed": false
   },
   "outputs": [
    {
     "data": {
      "image/png": "[encoded data removed]",
      "text/plain": [
       "<matplotlib.figure.Figure at 0x1040f4b90>"
      ]
     },
     "metadata": {},
     "output_type": "display_data"
    }
   ],
   "source": [
    "# Read input sound\n",
    "(fs, x) = uf.wavread(input_file)\n",
    "plt.plot(x);"
   ]
  },
  {
   "cell_type": "markdown",
   "metadata": {},
   "source": [
    "## Begin Analysis"
   ]
  },
  {
   "cell_type": "code",
   "execution_count": 4,
   "metadata": {
    "collapsed": false
   },
   "outputs": [],
   "source": [
    "# Set up\n",
    "h_n = n / 2                              # size of positive spectrum \n",
    "h_m1 = int(np.floor((w.size + 1) / 2))   # half analysis window size by rounding\n",
    "h_m2 = int(np.floor(w.size / 2))         # half analysis window size by floor \n",
    "x = np.append(np.zeros(h_m2), x)         # zero-pad at beginning to center first window at sample 0\n",
    "x = np.append(x, np.zeros(h_m2))         # zero-pad the end to analyze last sample\n",
    "p_in = h_m1                              # init sound pointer in middle of anal window\n",
    "p_end = x.size - h_m1                    # last sample to start a frame \n",
    "fft_buffer = np.zeros(n)                 # initialize buffer for FFT\n",
    "w = w / sum(w)                           # normalize analysis window \n",
    "h_freq_p = []                            # initialize harmonic frequencies of previous frame\n",
    "f0_t = 0                                 # initialize f0 track\n",
    "f0_stable = 0                            # initialize f0 stable"
   ]
  },
  {
   "cell_type": "markdown",
   "metadata": {},
   "source": [
    "### Function for Harmonic Detection "
   ]
  },
  {
   "cell_type": "code",
   "execution_count": 5,
   "metadata": {
    "collapsed": true
   },
   "outputs": [],
   "source": [
    "def harmonic_detection(p_freq, p_mag, p_phase, f0, n_h, h_freq_p, fs, harm_dev_slope = 0.01):\n",
    "    '''\n",
    "    Detection of the harmonics of a frame from a set of spectral peaks using f0\n",
    "    to the ideal harmonic series built on top of a fundamental frequency\n",
    "    p_freq, p_mag, p_phase: peak frequencies, magnitudes and phases\n",
    "    f0: fundamental frequency\n",
    "    n_h: number of harmonics\n",
    "    h_freq_p: harmonic frequencies of previous frame\n",
    "    fs: sampling rate\n",
    "    harm_dev_slope: slope of change of the deviation allowed to perfect harmonic\n",
    "    \n",
    "    returns h_freq, h_mag, h_phase: harmonic frequencies, magnitudes, phases   \n",
    "    '''\n",
    "    # if no f0 return no harmonics\n",
    "    if (f0 <= 0): \n",
    "        return np.zeros(n_h), np.zeros(n_h), np.zeros(n_h)\n",
    "    \n",
    "    h_freq = np.zeros(n_h) # initialize harmonic frequencies                                                                 \n",
    "    h_mag = np.zeros(n_h) - 100 # initialize harmonic magnitudes                                                                  \n",
    "    h_phase = np.zeros(n_h)     # initialize harmonic phases                                                                      \n",
    "    h_f = f0 * np.arange(1, n_h + 1) # initialize harmonic frequencies                                                                 \n",
    "    h_i = 0                          # initialize harmonic index                                                                       \n",
    "\n",
    "    # if no incomming harmonic tracks initialize to harmonic series\n",
    "    if h_freq_p == []:                                     \n",
    "        h_freq_p = hf\n",
    "    \n",
    "    while (f0 > 0) and (h_i < n_h) and (h_f[h_i] < fs / 2):          \n",
    "        # find harmonic peaks\n",
    "        pe_i = np.argmin(abs(p_freq - h_f[h_i]))  # closest peak\n",
    "        dev1 = abs(p_freq[pe_i] - h_f[h_i])       # deviation from perfect harmonic\n",
    "        dev2 = (abs(p_freq[pe_i] - h_freq_p[h_i]) # deviation from previous frame\n",
    "                if h_freq_p[h_i] > 0 \n",
    "                else fs)\n",
    "        threshold = f0 / 3 + harm_dev_slope * p_freq[pe_i]\n",
    "\n",
    "        # accept peak if deviation is small                                                         \n",
    "        if ((dev1 < threshold) or (dev2 < threshold)):\n",
    "            h_freq[h_i]  = p_freq[pe_i]  # harmonic frequencies...\n",
    "            h_mag[h_i]   = p_mag[pe_i]   # ...magnitudes...\n",
    "            h_phase[h_i] = p_phase[pe_i] # ...and phases\n",
    "\n",
    "        # increase harmonic index \n",
    "        h_i += 1                  \n",
    "        \n",
    "    return h_freq, h_mag, h_phase"
   ]
  },
  {
   "cell_type": "code",
   "execution_count": 6,
   "metadata": {
    "collapsed": false
   },
   "outputs": [
    {
     "name": "stderr",
     "output_type": "stream",
     "text": [
      "/Users/dsp/anaconda/lib/python2.7/site-packages/ipykernel/__main__.py:25: DeprecationWarning: elementwise == comparison failed; this will raise an error in the future.\n"
     ]
    }
   ],
   "source": [
    "# For all frames:\n",
    "while p_in <= p_end:\n",
    "    x1 = x[p_in - h_m1 : p_in + h_m2]       # select frame\n",
    "    m_x, p_x = dft.dft_analysis(x1, w, n)   # compute dft\n",
    "    p_loc = uf.peakDetection(m_x, t)        # detect peak locations\n",
    "    ip_loc, ip_mag, ip_phase = uf.peakInterp(m_x, p_x, p_loc) # refine peak values with interpolation\n",
    "    ip_freq = fs * ip_loc / n               # convert locations to Hz\n",
    "    f0_t = uf.f0Twm(ip_freq, ip_mag, f0_t, min_f0, max_f0, f0_stable)  # find f0\n",
    "    \n",
    "    if ((f0_stable == 0) & (f0_t > 0)) or \\\n",
    "        ((f0_stable > 0) & \n",
    "         (np.abs(f0_stable - f0_t) < f0_stable / 5.0)):\n",
    "        # consider a stable f0 if it is close to the previous one                          \n",
    "        f0_stable = f0_t\n",
    "    else:\n",
    "        f0_stable = 0\n",
    "\n",
    "    # Implement harmonic_detection() to find harmonics\n",
    "    h_freq, h_mag, h_phase = harmonic_detection(\n",
    "        ip_freq, ip_mag, ip_phase, f0_t, n_h, h_freq_p, fs, harm_dev_slope)\n",
    "\n",
    "    h_freq_p = h_freq\n",
    "    \n",
    "    # if first frame\n",
    "    if p_in == h_m1:\n",
    "        x_h_freq  = np.array([h_freq])\n",
    "        x_h_mag   = np.array([h_mag])\n",
    "        x_h_phase = np.array([h_phase])\n",
    "    else:\n",
    "        x_h_freq  = np.vstack((x_h_freq,  np.array([h_freq])))\n",
    "        x_h_mag   = np.vstack((x_h_mag,   np.array([h_mag])))\n",
    "        x_h_phase = np.vstack((x_h_phase, np.array([h_phase])))\n",
    "        \n",
    "    # advance sound pointer\n",
    "    p_in += h"
   ]
  },
  {
   "cell_type": "code",
   "execution_count": 7,
   "metadata": {
    "collapsed": false
   },
   "outputs": [],
   "source": [
    "# delete tracks shorter than minSineDur (see previous notebook, 03_sine_model.ipynb for details)\n",
    "x_h_freq = sm.clean_sine_tracks(x_h_freq, round(fs * min_sine_duration / h))"
   ]
  },
  {
   "cell_type": "code",
   "execution_count": 8,
   "metadata": {
    "collapsed": true
   },
   "outputs": [],
   "source": [
    "h_freq  = x_h_freq\n",
    "h_mag   = x_h_mag\n",
    "h_phase = x_h_phase"
   ]
  },
  {
   "cell_type": "code",
   "execution_count": 10,
   "metadata": {
    "collapsed": false
   },
   "outputs": [
    {
     "ename": "NameError",
     "evalue": "global name 'n_s' is not defined",
     "output_type": "error",
     "traceback": [
      "\u001b[0;31m---------------------------------------------------------------------------\u001b[0m",
      "\u001b[0;31mNameError\u001b[0m                                 Traceback (most recent call last)",
      "\u001b[0;32m<ipython-input-10-ad28f4cea07d>\u001b[0m in \u001b[0;36m<module>\u001b[0;34m()\u001b[0m\n\u001b[1;32m      1\u001b[0m \u001b[0;31m# Synthesize harmonics\u001b[0m\u001b[0;34m\u001b[0m\u001b[0;34m\u001b[0m\u001b[0m\n\u001b[1;32m      2\u001b[0m \u001b[0mn_s\u001b[0m \u001b[0;34m=\u001b[0m \u001b[0;36m512\u001b[0m    \u001b[0;31m# size of FFT for synthesis\u001b[0m\u001b[0;34m\u001b[0m\u001b[0m\n\u001b[0;32m----> 3\u001b[0;31m \u001b[0my\u001b[0m \u001b[0;34m=\u001b[0m \u001b[0msm\u001b[0m\u001b[0;34m.\u001b[0m\u001b[0msine_model_synthesis\u001b[0m\u001b[0;34m(\u001b[0m\u001b[0mh_freq\u001b[0m\u001b[0;34m,\u001b[0m \u001b[0mh_mag\u001b[0m\u001b[0;34m,\u001b[0m \u001b[0mh_phase\u001b[0m\u001b[0;34m,\u001b[0m \u001b[0mn_s\u001b[0m\u001b[0;34m,\u001b[0m \u001b[0mh\u001b[0m\u001b[0;34m,\u001b[0m \u001b[0mfs\u001b[0m\u001b[0;34m)\u001b[0m\u001b[0;34m\u001b[0m\u001b[0m\n\u001b[0m",
      "\u001b[0;32m/Users/dsp/Classes/DigitalSoundProcessing/models/sine_model.pyc\u001b[0m in \u001b[0;36msine_model_synthesis\u001b[0;34m(t_freq, t_mag, t_phase, n, h, fs)\u001b[0m\n\u001b[1;32m    244\u001b[0m     \u001b[0mtw\u001b[0m \u001b[0;34m=\u001b[0m \u001b[0mtriang\u001b[0m\u001b[0;34m(\u001b[0m\u001b[0;36m2\u001b[0m \u001b[0;34m*\u001b[0m \u001b[0mh\u001b[0m\u001b[0;34m)\u001b[0m   \u001b[0;31m# triangular window\u001b[0m\u001b[0;34m\u001b[0m\u001b[0m\n\u001b[1;32m    245\u001b[0m     \u001b[0msw\u001b[0m\u001b[0;34m[\u001b[0m\u001b[0mh_n\u001b[0m \u001b[0;34m-\u001b[0m \u001b[0mh\u001b[0m \u001b[0;34m:\u001b[0m \u001b[0mh_n\u001b[0m \u001b[0;34m+\u001b[0m \u001b[0mh\u001b[0m\u001b[0;34m]\u001b[0m \u001b[0;34m=\u001b[0m \u001b[0mtw\u001b[0m \u001b[0;31m# add triang window\u001b[0m\u001b[0;34m\u001b[0m\u001b[0m\n\u001b[0;32m--> 246\u001b[0;31m     \u001b[0mbh\u001b[0m \u001b[0;34m=\u001b[0m \u001b[0mblackmanharris\u001b[0m\u001b[0;34m(\u001b[0m\u001b[0mn_s\u001b[0m\u001b[0;34m)\u001b[0m \u001b[0;31m# blackman-harris window\u001b[0m\u001b[0;34m\u001b[0m\u001b[0m\n\u001b[0m\u001b[1;32m    247\u001b[0m \u001b[0;34m\u001b[0m\u001b[0m\n\u001b[1;32m    248\u001b[0m     \u001b[0;31m# normalize windows\u001b[0m\u001b[0;34m\u001b[0m\u001b[0;34m\u001b[0m\u001b[0m\n",
      "\u001b[0;31mNameError\u001b[0m: global name 'n_s' is not defined"
     ]
    }
   ],
   "source": [
    "# Synthesize harmonics\n",
    "y = sm.sine_model_synthesis(h_freq, h_mag, h_phase, n_s, h, fs)"
   ]
  },
  {
   "cell_type": "code",
   "execution_count": null,
   "metadata": {
    "collapsed": true
   },
   "outputs": [],
   "source": []
  }
 ],
 "metadata": {
  "kernelspec": {
   "display_name": "Python 2",
   "language": "python",
   "name": "python2"
  },
  "language_info": {
   "codemirror_mode": {
    "name": "ipython",
    "version": 2
   },
   "file_extension": ".py",
   "mimetype": "text/x-python",
   "name": "python",
   "nbconvert_exporter": "python",
   "pygments_lexer": "ipython2",
   "version": "2.7.11"
  }
 },
 "nbformat": 4,
 "nbformat_minor": 0
}
